{
 "cells": [
  {
   "cell_type": "markdown",
   "metadata": {},
   "source": [
    "# Libraries needed"
   ]
  },
  {
   "cell_type": "code",
   "execution_count": 2,
   "metadata": {},
   "outputs": [],
   "source": [
    "import pandas as pd\n",
    "import selenium \n",
    "from selenium import webdriver\n",
    "from selenium.webdriver.common.keys import Keys\n",
    "from selenium.webdriver.common.by import By\n",
    "import time\n",
    "from selenium.webdriver.support.ui import WebDriverWait\n",
    "from selenium.webdriver.support import expected_conditions as EC\n",
    "from selenium.webdriver.chrome.options import Options\n",
    "from selenium.common.exceptions import *\n",
    "import re\n",
    "from random import randint"
   ]
  },
  {
   "cell_type": "markdown",
   "metadata": {},
   "source": [
    "# Import data"
   ]
  },
  {
   "cell_type": "code",
   "execution_count": 191,
   "metadata": {},
   "outputs": [],
   "source": [
    "df = pd.read_csv(\"\"\"CSV File here\"\"\")\n",
    "names = df['Name']\n",
    "names = list(names)\n",
    "df.shape"
   ]
  },
  {
   "cell_type": "markdown",
   "metadata": {},
   "source": [
    "# Scrape page"
   ]
  },
  {
   "cell_type": "code",
   "execution_count": null,
   "metadata": {
    "tags": []
   },
   "outputs": [],
   "source": [
    "#Create Chrome driver element and pass url.\n",
    "options = Options()\n",
    "options.headless = False\n",
    "driver = webdriver.Chrome(options = options)\n",
    "\n",
    "\n",
    "#This function looks for an element (whcih you pass to it) and checks if it exists.\n",
    "def check_exists_by_xpath(xpath):\n",
    "    try:\n",
    "        driver.find_element(By.XPATH,xpath)\n",
    "    except NoSuchElementException:\n",
    "        return False\n",
    "    return True\n",
    "\n",
    "\n",
    "#Create lists to store scraped info.\n",
    "phones = []\n",
    "postcodes = []\n",
    "websites = []\n",
    "\n",
    "\n",
    "#Loop over each name in list of company names.\n",
    "for name in names:\n",
    "    \n",
    "    #Set random times for making the browsers wait. This minimises the risk of triggering CAPTCHA. \n",
    "    rand = randint(4,6)\n",
    "    randloop = randint(6,9)\n",
    "\n",
    "    #Go to search page.\n",
    "    driver.get(\"\"\"webpage which will be used for searching for companies\"\"\")\n",
    "    \n",
    "    time.sleep(randloop)\n",
    "\n",
    "    #Look for the class.\n",
    "    search_box = driver.find_element(By.XPATH, '//*[@id=\"globalsearch\"]')\n",
    "\n",
    "    #Take the company name from list and enter into search box.\n",
    "    search_box.send_keys(name)\n",
    "\n",
    "    #Submit the text.\n",
    "    search_box.send_keys(Keys.RETURN)\n",
    "    time.sleep(rand)\n",
    "\n",
    "    #Click on search clubs button.\n",
    "    xpath = \"/html/body/div[1]/main/div/div/div[2]/div/div[1]/article/div[1]/div/div/a[1]\"\n",
    "    web_elem = driver.find_element(By.XPATH, xpath)\n",
    "    driver.execute_script(\"arguments[0].click();\", web_elem)\n",
    "    time.sleep(rand)\n",
    "    \n",
    "    #Use custom funciton to check if page exists.\n",
    "    page_exists = check_exists_by_xpath('//*[@id=\"clubs-table\"]/tbody/tr/td[5]/div[1]/h4/a')\n",
    "    \n",
    "    \n",
    "    if page_exists == True:\n",
    "\n",
    "        #Click on club link and go to information page.\n",
    "        xpath = '//*[@id=\"clubs-table\"]/tbody/tr/td[5]/div[1]/h4/a'\n",
    "        web_elem = driver.find_element(By.XPATH, xpath)\n",
    "        driver.execute_script(\"arguments[0].click();\", web_elem)\n",
    "        time.sleep(rand)\n",
    "\n",
    "        #Click on contact page.\n",
    "        xpath = '//*[@id=\"ui-id-contact\"]'\n",
    "        web_elem = driver.find_element(By.XPATH, xpath)\n",
    "        driver.execute_script(\"arguments[0].click();\", web_elem)\n",
    "        time.sleep(rand)\n",
    "\n",
    "        #Use custom function to check if website link exists.\n",
    "        web_exists = check_exists_by_xpath('//*[@id=\"contact\"]/p/a')\n",
    "\n",
    "\n",
    "        #Get website.\n",
    "        if web_exists ==True:\n",
    "            elem = driver.find_element(By.XPATH, '//*[@id=\"contact\"]/p/a')\n",
    "            website = elem.get_attribute('href')\n",
    "        else:\n",
    "            website = 'None'\n",
    "\n",
    "        #Get text on page.\n",
    "        info = driver.find_element(By.XPATH, '//*[@id=\"contact\"]').text\n",
    "\n",
    "        info = info.split('\\n')\n",
    "\n",
    "\n",
    "        # Get postcode element. \n",
    "        pcode = []\n",
    "\n",
    "        for ps in info:\n",
    "\n",
    "            if 'Postcode' in ps:\n",
    "\n",
    "                pcode = ps\n",
    "\n",
    "        postcode = pcode[10:]\n",
    "\n",
    "\n",
    "        # Get phone number element. \n",
    "        pnum = []\n",
    "\n",
    "        for ps in info:\n",
    "\n",
    "            if 'Phone' in ps:\n",
    "\n",
    "                pnum = ps\n",
    "\n",
    "        phone = pnum[7:]\n",
    "\n",
    "    #Fill with some null value if page does not exist.\n",
    "    else:\n",
    "        \n",
    "        phone = 'None'\n",
    "        postcode = 'None'\n",
    "        website = 'None'\n",
    "        \n",
    "        \n",
    "    phones.append(phone)\n",
    "    postcodes.append(postcode)\n",
    "    websites.append(website)"
   ]
  },
  {
   "cell_type": "markdown",
   "metadata": {
    "tags": []
   },
   "source": [
    "# Find email using regex and filter parameters"
   ]
  },
  {
   "cell_type": "code",
   "execution_count": null,
   "metadata": {
    "tags": []
   },
   "outputs": [],
   "source": [
    "df = pd.read_csv(\"\"\"Pull in new info from previous scrape\"\"\")\n",
    "websites = df['Website']\n",
    "websites = list(websites)\n",
    "df.shape"
   ]
  },
  {
   "cell_type": "code",
   "execution_count": null,
   "metadata": {
    "tags": []
   },
   "outputs": [],
   "source": [
    "# Create driver chrome driver element and pass url.\n",
    "options = Options()\n",
    "options.headless = False\n",
    "driver = webdriver.Chrome(options = options)\n",
    "\n",
    "#Store emails in new list.\n",
    "address = []\n",
    "\n",
    "#Loop over each of the websites just collected.\n",
    "for web in websites:\n",
    "    \n",
    "    if web != 'None':\n",
    "\n",
    "        driver.get(web)\n",
    "\n",
    "        time.sleep(5)\n",
    "\n",
    "        source = driver.page_source\n",
    "        \n",
    "        #This string is used to decode webpage and match instances which look like email addresses. \n",
    "        EMAIL_REGEX = \"\"\"(?:[a-z0-9!#$%&'*+/=?^_`{|}~-]+(?:\\.[a-z0-9!#$%&'*+/=?^_`{|}~-]+)*|\"(?:[\\x01-\\x08\\x0b\\x0c\\x0e-\\x1f\\x21\\x23-\\x5b\\x5d-\\x7f]|\\\\[\\x01-\\x09\\x0b\\x0c\\x0e-\\x7f])*\")@(?:(?:[a-z0-9](?:[a-z0-9-]*[a-z0-9])?\\.)+[a-z0-9](?:[a-z0-9-]*[a-z0-9])?|\\[(?:(?:(2(5[0-5]|[0-4][0-9])|1[0-9][0-9]|[1-9]?[0-9]))\\.){3}(?:(2(5[0-5]|[0-4][0-9])|1[0-9][0-9]|[1-9]?[0-9])|[a-z0-9-]*[a-z0-9]:(?:[\\x01-\\x08\\x0b\\x0c\\x0e-\\x1f\\x21-\\x5a\\x53-\\x7f]|\\\\[\\x01-\\x09\\x0b\\x0c\\x0e-\\x7f])+)\\])\"\"\"\n",
    "\n",
    "        #Compare all text in page source against regex string and take values which match. \n",
    "        list_of_emails = []\n",
    "\n",
    "        for re_match in re.finditer(EMAIL_REGEX, source):\n",
    "            list_of_emails.append(re_match.group())\n",
    "\n",
    "\n",
    "        #Remove duplicates in list. \n",
    "        list_of_emails = list(set(list_of_emails))\n",
    "\n",
    "        #This will be used to find elements in the collected list which match some characters in the company name.\n",
    "        web = web.strip('http://www.')\n",
    "        web = web[:4]\n",
    "        \n",
    "        \n",
    "        #Using the section of company name above and other qualifiers to filter email results further. \n",
    "        email = []\n",
    "\n",
    "        for i in list_of_emails:\n",
    "    \n",
    "            if 'gmail' in i or'outlook' in i or 'hotmail' in i or 'yahoo' in i or 'info' in i or web in i:\n",
    "        \n",
    "                email.append(i)          \n",
    "            \n",
    "            else:\n",
    "    \n",
    "                email = list_of_emails\n",
    "        \n",
    "    #Setting null value if no records found.     \n",
    "    else:\n",
    "        \n",
    "        address.append('None')\n",
    "        \n",
    "        "
   ]
  },
  {
   "cell_type": "markdown",
   "metadata": {},
   "source": [
    "# Grabbing contact form links where emails where not stated"
   ]
  },
  {
   "cell_type": "code",
   "execution_count": null,
   "metadata": {},
   "outputs": [],
   "source": [
    "df = pd.read_csv('for_contacts.csv')\n",
    "links = df['Website']\n",
    "links = list(links)\n",
    "df.shape"
   ]
  },
  {
   "cell_type": "code",
   "execution_count": null,
   "metadata": {
    "tags": []
   },
   "outputs": [],
   "source": [
    "options = Options()\n",
    "options.headless = False\n",
    "driver = webdriver.Chrome(options = options)\n",
    "\n",
    "#Collecting results in list. \n",
    "forms = []\n",
    "\n",
    "\n",
    "for i in links:\n",
    "    \n",
    "    try:\n",
    "    \n",
    "        if i != 'None':\n",
    "            \n",
    "            \n",
    "            driver.get(i)\n",
    "\n",
    "            #Get all website page links.\n",
    "            strings = []\n",
    "\n",
    "            elems = driver.find_elements_by_xpath(\"//a[@href]\")\n",
    "            for elem in elems:\n",
    "                strings.append(elem.get_attribute(\"href\"))\n",
    "\n",
    "\n",
    "            #Get only links with 'Contact' in the name.\n",
    "            form = []\n",
    "\n",
    "            for i in strings:\n",
    "                if 'Contact' in i or 'contact' in i:\n",
    "                    form.append(i)\n",
    "                    \n",
    "            #Remove duplicates from list.\n",
    "            form = list(set(form))\n",
    "\n",
    "\n",
    "            forms.append(form)\n",
    "            print(form)\n",
    "\n",
    "        else: \n",
    "\n",
    "            forms.append('None')\n",
    "            \n",
    "            \n",
    "    except:\n",
    "        \n",
    "        forms.append('None')\n",
    "        \n",
    "        continue\n",
    "        \n",
    "    #Saving to CSV each loop. \n",
    "    df = pd.DataFrame({'Contact':forms})\n",
    "    df.to_csv('forms6.csv')"
   ]
  },
  {
   "cell_type": "markdown",
   "metadata": {},
   "source": [
    "# Tidying up results"
   ]
  },
  {
   "cell_type": "markdown",
   "metadata": {},
   "source": [
    "### Remove additional items and just keep first record"
   ]
  },
  {
   "cell_type": "code",
   "execution_count": 34,
   "metadata": {},
   "outputs": [],
   "source": [
    "df = pd.read_csv(\"\"\"Websites collected\"\"\")\n",
    "contacts = df['Contact']\n",
    "contacts = list(contacts)"
   ]
  },
  {
   "cell_type": "code",
   "execution_count": 35,
   "metadata": {},
   "outputs": [],
   "source": [
    "#Split up results where there are multiple instances.\n",
    "cons = []\n",
    "\n",
    "for con in contacts:\n",
    "    con = con.split(',')[0]\n",
    "    cons.append(con)\n",
    "    "
   ]
  },
  {
   "cell_type": "markdown",
   "metadata": {},
   "source": [
    "### Replace values"
   ]
  },
  {
   "cell_type": "code",
   "execution_count": 38,
   "metadata": {},
   "outputs": [],
   "source": [
    "df = pd.DataFrame({'Contact':cons})"
   ]
  },
  {
   "cell_type": "code",
   "execution_count": 39,
   "metadata": {},
   "outputs": [],
   "source": [
    "df.loc[df['Contact'].str.contains('@'), 'Contact'] = 'None'\n",
    "df.loc[df['Contact'].str.contains('remove reccuring value'),'Contact'] = 'None'"
   ]
  },
  {
   "cell_type": "code",
   "execution_count": 41,
   "metadata": {},
   "outputs": [],
   "source": [
    "#Final save\n",
    "df.to_csv('final_contacts.csv')"
   ]
  }
 ],
 "metadata": {
  "kernelspec": {
   "display_name": "Python 3",
   "language": "python",
   "name": "python3"
  },
  "language_info": {
   "codemirror_mode": {
    "name": "ipython",
    "version": 3
   },
   "file_extension": ".py",
   "mimetype": "text/x-python",
   "name": "python",
   "nbconvert_exporter": "python",
   "pygments_lexer": "ipython3",
   "version": "3.8.8"
  }
 },
 "nbformat": 4,
 "nbformat_minor": 4
}
