{
 "cells": [
  {
   "cell_type": "markdown",
   "metadata": {},
   "source": [
    "# Libraries needed"
   ]
  },
  {
   "cell_type": "code",
   "execution_count": 2,
   "metadata": {},
   "outputs": [],
   "source": [
    "import pandas as pd\n",
    "import selenium \n",
    "from selenium import webdriver\n",
    "from selenium.webdriver.common.keys import Keys\n",
    "from selenium.webdriver.common.by import By\n",
    "import time\n",
    "from selenium.webdriver.support.ui import WebDriverWait\n",
    "from selenium.webdriver.support import expected_conditions as EC\n",
    "from selenium.webdriver.chrome.options import Options\n",
    "from selenium.common.exceptions import *\n",
    "import re\n",
    "from random import randint"
   ]
  },
  {
   "cell_type": "markdown",
   "metadata": {},
   "source": [
    "# Import data"
   ]
  },
  {
   "cell_type": "code",
   "execution_count": 191,
   "metadata": {},
   "outputs": [],
   "source": [
    "df = pd.read_csv(\"\"\"CSV File here\"\"\")\n",
    "names = df['Name']\n",
    "names = list(names)\n",
    "df.shape"
   ]
  },
  {
   "cell_type": "markdown",
   "metadata": {},
   "source": [
    "# Scrape page"
   ]
  },
  {
   "cell_type": "code",
   "execution_count": 219,
   "metadata": {
    "collapsed": true,
    "jupyter": {
     "outputs_hidden": true
    },
    "tags": []
   },
   "outputs": [
    {
     "ename": "WebDriverException",
     "evalue": "Message: chrome not reachable\n  (Session info: chrome=96.0.4664.93)\n",
     "output_type": "error",
     "traceback": [
      "\u001b[1;31m---------------------------------------------------------------------------\u001b[0m",
      "\u001b[1;31mWebDriverException\u001b[0m                        Traceback (most recent call last)",
      "\u001b[1;32m<ipython-input-219-be17543fd304>\u001b[0m in \u001b[0;36m<module>\u001b[1;34m\u001b[0m\n\u001b[0;32m     36\u001b[0m \u001b[1;33m\u001b[0m\u001b[0m\n\u001b[0;32m     37\u001b[0m     \u001b[1;31m#Look for the class\u001b[0m\u001b[1;33m\u001b[0m\u001b[1;33m\u001b[0m\u001b[1;33m\u001b[0m\u001b[0m\n\u001b[1;32m---> 38\u001b[1;33m     \u001b[0msearch_box\u001b[0m \u001b[1;33m=\u001b[0m \u001b[0mdriver\u001b[0m\u001b[1;33m.\u001b[0m\u001b[0mfind_element\u001b[0m\u001b[1;33m(\u001b[0m\u001b[0mBy\u001b[0m\u001b[1;33m.\u001b[0m\u001b[0mXPATH\u001b[0m\u001b[1;33m,\u001b[0m \u001b[1;34m'//*[@id=\"globalsearch\"]'\u001b[0m\u001b[1;33m)\u001b[0m\u001b[1;33m\u001b[0m\u001b[1;33m\u001b[0m\u001b[0m\n\u001b[0m\u001b[0;32m     39\u001b[0m \u001b[1;33m\u001b[0m\u001b[0m\n\u001b[0;32m     40\u001b[0m     \u001b[1;31m#Write what we be searched\u001b[0m\u001b[1;33m\u001b[0m\u001b[1;33m\u001b[0m\u001b[1;33m\u001b[0m\u001b[0m\n",
      "\u001b[1;32mc:\\users\\marv1\\appdata\\local\\programs\\python\\python38-32\\lib\\site-packages\\selenium\\webdriver\\remote\\webdriver.py\u001b[0m in \u001b[0;36mfind_element\u001b[1;34m(self, by, value)\u001b[0m\n\u001b[0;32m    974\u001b[0m                 \u001b[0mby\u001b[0m \u001b[1;33m=\u001b[0m \u001b[0mBy\u001b[0m\u001b[1;33m.\u001b[0m\u001b[0mCSS_SELECTOR\u001b[0m\u001b[1;33m\u001b[0m\u001b[1;33m\u001b[0m\u001b[0m\n\u001b[0;32m    975\u001b[0m                 \u001b[0mvalue\u001b[0m \u001b[1;33m=\u001b[0m \u001b[1;34m'[name=\"%s\"]'\u001b[0m \u001b[1;33m%\u001b[0m \u001b[0mvalue\u001b[0m\u001b[1;33m\u001b[0m\u001b[1;33m\u001b[0m\u001b[0m\n\u001b[1;32m--> 976\u001b[1;33m         return self.execute(Command.FIND_ELEMENT, {\n\u001b[0m\u001b[0;32m    977\u001b[0m             \u001b[1;34m'using'\u001b[0m\u001b[1;33m:\u001b[0m \u001b[0mby\u001b[0m\u001b[1;33m,\u001b[0m\u001b[1;33m\u001b[0m\u001b[1;33m\u001b[0m\u001b[0m\n\u001b[0;32m    978\u001b[0m             'value': value})['value']\n",
      "\u001b[1;32mc:\\users\\marv1\\appdata\\local\\programs\\python\\python38-32\\lib\\site-packages\\selenium\\webdriver\\remote\\webdriver.py\u001b[0m in \u001b[0;36mexecute\u001b[1;34m(self, driver_command, params)\u001b[0m\n\u001b[0;32m    319\u001b[0m         \u001b[0mresponse\u001b[0m \u001b[1;33m=\u001b[0m \u001b[0mself\u001b[0m\u001b[1;33m.\u001b[0m\u001b[0mcommand_executor\u001b[0m\u001b[1;33m.\u001b[0m\u001b[0mexecute\u001b[0m\u001b[1;33m(\u001b[0m\u001b[0mdriver_command\u001b[0m\u001b[1;33m,\u001b[0m \u001b[0mparams\u001b[0m\u001b[1;33m)\u001b[0m\u001b[1;33m\u001b[0m\u001b[1;33m\u001b[0m\u001b[0m\n\u001b[0;32m    320\u001b[0m         \u001b[1;32mif\u001b[0m \u001b[0mresponse\u001b[0m\u001b[1;33m:\u001b[0m\u001b[1;33m\u001b[0m\u001b[1;33m\u001b[0m\u001b[0m\n\u001b[1;32m--> 321\u001b[1;33m             \u001b[0mself\u001b[0m\u001b[1;33m.\u001b[0m\u001b[0merror_handler\u001b[0m\u001b[1;33m.\u001b[0m\u001b[0mcheck_response\u001b[0m\u001b[1;33m(\u001b[0m\u001b[0mresponse\u001b[0m\u001b[1;33m)\u001b[0m\u001b[1;33m\u001b[0m\u001b[1;33m\u001b[0m\u001b[0m\n\u001b[0m\u001b[0;32m    322\u001b[0m             response['value'] = self._unwrap_value(\n\u001b[0;32m    323\u001b[0m                 response.get('value', None))\n",
      "\u001b[1;32mc:\\users\\marv1\\appdata\\local\\programs\\python\\python38-32\\lib\\site-packages\\selenium\\webdriver\\remote\\errorhandler.py\u001b[0m in \u001b[0;36mcheck_response\u001b[1;34m(self, response)\u001b[0m\n\u001b[0;32m    240\u001b[0m                 \u001b[0malert_text\u001b[0m \u001b[1;33m=\u001b[0m \u001b[0mvalue\u001b[0m\u001b[1;33m[\u001b[0m\u001b[1;34m'alert'\u001b[0m\u001b[1;33m]\u001b[0m\u001b[1;33m.\u001b[0m\u001b[0mget\u001b[0m\u001b[1;33m(\u001b[0m\u001b[1;34m'text'\u001b[0m\u001b[1;33m)\u001b[0m\u001b[1;33m\u001b[0m\u001b[1;33m\u001b[0m\u001b[0m\n\u001b[0;32m    241\u001b[0m             \u001b[1;32mraise\u001b[0m \u001b[0mexception_class\u001b[0m\u001b[1;33m(\u001b[0m\u001b[0mmessage\u001b[0m\u001b[1;33m,\u001b[0m \u001b[0mscreen\u001b[0m\u001b[1;33m,\u001b[0m \u001b[0mstacktrace\u001b[0m\u001b[1;33m,\u001b[0m \u001b[0malert_text\u001b[0m\u001b[1;33m)\u001b[0m\u001b[1;33m\u001b[0m\u001b[1;33m\u001b[0m\u001b[0m\n\u001b[1;32m--> 242\u001b[1;33m         \u001b[1;32mraise\u001b[0m \u001b[0mexception_class\u001b[0m\u001b[1;33m(\u001b[0m\u001b[0mmessage\u001b[0m\u001b[1;33m,\u001b[0m \u001b[0mscreen\u001b[0m\u001b[1;33m,\u001b[0m \u001b[0mstacktrace\u001b[0m\u001b[1;33m)\u001b[0m\u001b[1;33m\u001b[0m\u001b[1;33m\u001b[0m\u001b[0m\n\u001b[0m\u001b[0;32m    243\u001b[0m \u001b[1;33m\u001b[0m\u001b[0m\n\u001b[0;32m    244\u001b[0m     \u001b[1;32mdef\u001b[0m \u001b[0m_value_or_default\u001b[0m\u001b[1;33m(\u001b[0m\u001b[0mself\u001b[0m\u001b[1;33m,\u001b[0m \u001b[0mobj\u001b[0m\u001b[1;33m,\u001b[0m \u001b[0mkey\u001b[0m\u001b[1;33m,\u001b[0m \u001b[0mdefault\u001b[0m\u001b[1;33m)\u001b[0m\u001b[1;33m:\u001b[0m\u001b[1;33m\u001b[0m\u001b[1;33m\u001b[0m\u001b[0m\n",
      "\u001b[1;31mWebDriverException\u001b[0m: Message: chrome not reachable\n  (Session info: chrome=96.0.4664.93)\n"
     ]
    }
   ],
   "source": [
    "#Create Chrome driver element and pass url.\n",
    "options = Options()\n",
    "options.headless = False\n",
    "driver = webdriver.Chrome(options = options)\n",
    "\n",
    "\n",
    "#This function looks for an element (whcih you pass to it) and checks if it exists.\n",
    "def check_exists_by_xpath(xpath):\n",
    "    try:\n",
    "        driver.find_element(By.XPATH,xpath)\n",
    "    except NoSuchElementException:\n",
    "        return False\n",
    "    return True\n",
    "\n",
    "\n",
    "#Create lists to store scraped info.\n",
    "phones = []\n",
    "postcodes = []\n",
    "websites = []\n",
    "\n",
    "\n",
    "#Loop over each name in list of company names.\n",
    "for name in names:\n",
    "    \n",
    "    #Set random times for making the browsers wait. This minimises the risk of triggering CAPTCHA. \n",
    "    rand = randint(4,6)\n",
    "    randloop = randint(6,9)\n",
    "\n",
    "    #Go to search page.\n",
    "    driver.get(\"\"\"webpage which will be used for searching for companies\"\"\")\n",
    "    \n",
    "    time.sleep(randloop)\n",
    "\n",
    "    #Look for the class.\n",
    "    search_box = driver.find_element(By.XPATH, '//*[@id=\"globalsearch\"]')\n",
    "\n",
    "    #Take the company name from list and enter into search box.\n",
    "    search_box.send_keys(name)\n",
    "\n",
    "    #Submit the text.\n",
    "    search_box.send_keys(Keys.RETURN)\n",
    "    time.sleep(rand)\n",
    "\n",
    "    #Click on search clubs button.\n",
    "    xpath = \"/html/body/div[1]/main/div/div/div[2]/div/div[1]/article/div[1]/div/div/a[1]\"\n",
    "    web_elem = driver.find_element(By.XPATH, xpath)\n",
    "    driver.execute_script(\"arguments[0].click();\", web_elem)\n",
    "    time.sleep(rand)\n",
    "    \n",
    "    #Use custom funciton to check if page exists.\n",
    "    page_exists = check_exists_by_xpath('//*[@id=\"clubs-table\"]/tbody/tr/td[5]/div[1]/h4/a')\n",
    "    \n",
    "    \n",
    "    if page_exists == True:\n",
    "\n",
    "        #Click on club link and go to information page.\n",
    "        xpath = '//*[@id=\"clubs-table\"]/tbody/tr/td[5]/div[1]/h4/a'\n",
    "        web_elem = driver.find_element(By.XPATH, xpath)\n",
    "        driver.execute_script(\"arguments[0].click();\", web_elem)\n",
    "        time.sleep(rand)\n",
    "\n",
    "        #Click on contact page.\n",
    "        xpath = '//*[@id=\"ui-id-contact\"]'\n",
    "        web_elem = driver.find_element(By.XPATH, xpath)\n",
    "        driver.execute_script(\"arguments[0].click();\", web_elem)\n",
    "        time.sleep(rand)\n",
    "\n",
    "        #Use custom function to check if website link exists.\n",
    "        web_exists = check_exists_by_xpath('//*[@id=\"contact\"]/p/a')\n",
    "\n",
    "\n",
    "        #Get website.\n",
    "        if web_exists ==True:\n",
    "            elem = driver.find_element(By.XPATH, '//*[@id=\"contact\"]/p/a')\n",
    "            website = elem.get_attribute('href')\n",
    "        else:\n",
    "            website = 'None'\n",
    "\n",
    "        #Get text on page.\n",
    "        info = driver.find_element(By.XPATH, '//*[@id=\"contact\"]').text\n",
    "\n",
    "        info = info.split('\\n')\n",
    "\n",
    "\n",
    "        # Get postcode element. \n",
    "        pcode = []\n",
    "\n",
    "        for ps in info:\n",
    "\n",
    "            if 'Postcode' in ps:\n",
    "\n",
    "                pcode = ps\n",
    "\n",
    "        postcode = pcode[10:]\n",
    "\n",
    "\n",
    "        # Get phone number element. \n",
    "        pnum = []\n",
    "\n",
    "        for ps in info:\n",
    "\n",
    "            if 'Phone' in ps:\n",
    "\n",
    "                pnum = ps\n",
    "\n",
    "        phone = pnum[7:]\n",
    "\n",
    "    #Fill with some null value if page does not exist.\n",
    "    else:\n",
    "        \n",
    "        phone = 'None'\n",
    "        postcode = 'None'\n",
    "        website = 'None'\n",
    "        \n",
    "        \n",
    "    phones.append(phone)\n",
    "    postcodes.append(postcode)\n",
    "    websites.append(website)"
   ]
  },
  {
   "cell_type": "markdown",
   "metadata": {
    "tags": []
   },
   "source": [
    "# Find email using regex and filter parameters"
   ]
  },
  {
   "cell_type": "code",
   "execution_count": 225,
   "metadata": {
    "collapsed": true,
    "jupyter": {
     "outputs_hidden": true
    },
    "tags": []
   },
   "outputs": [
    {
     "data": {
      "text/plain": [
       "(1685, 5)"
      ]
     },
     "execution_count": 225,
     "metadata": {},
     "output_type": "execute_result"
    }
   ],
   "source": [
    "df = pd.read_csv(\"\"\"Pull in new info from previous scrape\"\"\")\n",
    "websites = df['Website']\n",
    "websites = list(websites)\n",
    "df.shape"
   ]
  },
  {
   "cell_type": "code",
   "execution_count": 240,
   "metadata": {
    "collapsed": true,
    "jupyter": {
     "outputs_hidden": true
    },
    "tags": []
   },
   "outputs": [
    {
     "name": "stdout",
     "output_type": "stream",
     "text": [
      "beac\n",
      "['secretary@beaconsfield.cc']\n",
      "beds\n",
      "[]\n",
      "bmcc\n",
      "[]\n",
      "eali\n"
     ]
    },
    {
     "ename": "MemoryError",
     "evalue": "",
     "output_type": "error",
     "traceback": [
      "\u001b[1;31m---------------------------------------------------------------------------\u001b[0m",
      "\u001b[1;31mMemoryError\u001b[0m                               Traceback (most recent call last)",
      "\u001b[1;32m<ipython-input-240-5eb7cd054763>\u001b[0m in \u001b[0;36m<module>\u001b[1;34m\u001b[0m\n\u001b[0;32m     43\u001b[0m             \u001b[1;32mif\u001b[0m \u001b[1;34m'gmail'\u001b[0m \u001b[1;32min\u001b[0m \u001b[0mi\u001b[0m \u001b[1;32mor\u001b[0m\u001b[1;34m'outlook'\u001b[0m \u001b[1;32min\u001b[0m \u001b[0mi\u001b[0m \u001b[1;32mor\u001b[0m \u001b[1;34m'hotmail'\u001b[0m \u001b[1;32min\u001b[0m \u001b[0mi\u001b[0m \u001b[1;32mor\u001b[0m \u001b[1;34m'yahoo'\u001b[0m \u001b[1;32min\u001b[0m \u001b[0mi\u001b[0m \u001b[1;32mor\u001b[0m \u001b[1;34m'info'\u001b[0m \u001b[1;32min\u001b[0m \u001b[0mi\u001b[0m \u001b[1;32mor\u001b[0m \u001b[0mweb\u001b[0m \u001b[1;32min\u001b[0m \u001b[0mi\u001b[0m\u001b[1;33m:\u001b[0m\u001b[1;33m\u001b[0m\u001b[1;33m\u001b[0m\u001b[0m\n\u001b[0;32m     44\u001b[0m \u001b[1;33m\u001b[0m\u001b[0m\n\u001b[1;32m---> 45\u001b[1;33m                 \u001b[0memail\u001b[0m\u001b[1;33m.\u001b[0m\u001b[0mappend\u001b[0m\u001b[1;33m(\u001b[0m\u001b[0mi\u001b[0m\u001b[1;33m)\u001b[0m\u001b[1;33m\u001b[0m\u001b[1;33m\u001b[0m\u001b[0m\n\u001b[0m\u001b[0;32m     46\u001b[0m \u001b[1;33m\u001b[0m\u001b[0m\n\u001b[0;32m     47\u001b[0m             \u001b[1;32melse\u001b[0m\u001b[1;33m:\u001b[0m\u001b[1;33m\u001b[0m\u001b[1;33m\u001b[0m\u001b[0m\n",
      "\u001b[1;31mMemoryError\u001b[0m: "
     ]
    }
   ],
   "source": [
    "# Create driver chrome driver element and pass url.\n",
    "options = Options()\n",
    "options.headless = False\n",
    "driver = webdriver.Chrome(options = options)\n",
    "\n",
    "#Store emails in new list.\n",
    "address = []\n",
    "\n",
    "#Loop over each of the websites just collected.\n",
    "for web in websites:\n",
    "    \n",
    "    if web != 'None':\n",
    "\n",
    "        driver.get(web)\n",
    "\n",
    "        time.sleep(5)\n",
    "\n",
    "        source = driver.page_source\n",
    "        \n",
    "        #This string is used to decode webpage and match instances which look like email addresses. \n",
    "        EMAIL_REGEX = \"\"\"(?:[a-z0-9!#$%&'*+/=?^_`{|}~-]+(?:\\.[a-z0-9!#$%&'*+/=?^_`{|}~-]+)*|\"(?:[\\x01-\\x08\\x0b\\x0c\\x0e-\\x1f\\x21\\x23-\\x5b\\x5d-\\x7f]|\\\\[\\x01-\\x09\\x0b\\x0c\\x0e-\\x7f])*\")@(?:(?:[a-z0-9](?:[a-z0-9-]*[a-z0-9])?\\.)+[a-z0-9](?:[a-z0-9-]*[a-z0-9])?|\\[(?:(?:(2(5[0-5]|[0-4][0-9])|1[0-9][0-9]|[1-9]?[0-9]))\\.){3}(?:(2(5[0-5]|[0-4][0-9])|1[0-9][0-9]|[1-9]?[0-9])|[a-z0-9-]*[a-z0-9]:(?:[\\x01-\\x08\\x0b\\x0c\\x0e-\\x1f\\x21-\\x5a\\x53-\\x7f]|\\\\[\\x01-\\x09\\x0b\\x0c\\x0e-\\x7f])+)\\])\"\"\"\n",
    "\n",
    "        #Compare all text in page source against regex string and take values which match. \n",
    "        list_of_emails = []\n",
    "\n",
    "        for re_match in re.finditer(EMAIL_REGEX, source):\n",
    "            list_of_emails.append(re_match.group())\n",
    "\n",
    "\n",
    "        #Remove duplicates in list. \n",
    "        list_of_emails = list(set(list_of_emails))\n",
    "\n",
    "        #This will be used to find elements in the collected list which match some characters in the company name.\n",
    "        web = web.strip('http://www.')\n",
    "        web = web[:4]\n",
    "        \n",
    "        \n",
    "        #Using the section of company name above and other qualifiers to filter email results further. \n",
    "        email = []\n",
    "\n",
    "        for i in list_of_emails:\n",
    "    \n",
    "            if 'gmail' in i or'outlook' in i or 'hotmail' in i or 'yahoo' in i or 'info' in i or web in i:\n",
    "        \n",
    "                email.append(i)          \n",
    "            \n",
    "            else:\n",
    "    \n",
    "                email = list_of_emails\n",
    "        \n",
    "    #Setting null value if no records found.     \n",
    "    else:\n",
    "        \n",
    "        address.append('None')\n",
    "        \n",
    "        "
   ]
  },
  {
   "cell_type": "markdown",
   "metadata": {},
   "source": [
    "# Grabbing contact form links where emails where not stated"
   ]
  },
  {
   "cell_type": "code",
   "execution_count": 2,
   "metadata": {},
   "outputs": [
    {
     "data": {
      "text/plain": [
       "(17, 6)"
      ]
     },
     "execution_count": 2,
     "metadata": {},
     "output_type": "execute_result"
    }
   ],
   "source": [
    "df = pd.read_csv('for_contacts.csv')\n",
    "links = df['Website']\n",
    "links = list(links)\n",
    "df.shape"
   ]
  },
  {
   "cell_type": "code",
   "execution_count": 3,
   "metadata": {
    "collapsed": true,
    "jupyter": {
     "outputs_hidden": true
    },
    "tags": []
   },
   "outputs": [
    {
     "name": "stdout",
     "output_type": "stream",
     "text": [
      "['https://www.sowerbybroscycles.co.uk/contact.aspx']\n",
      "['https://penninecycles.com/community/contact']\n",
      "['https://www.velocoaching.co.uk/contact/']\n",
      "['http://www.wilsonswheels.co.uk/contact.html']\n",
      "[]\n",
      "['https://www.yorkcycleworks.com/contact-us/']\n",
      "['https://www.clancybriggs.co.uk/contact']\n",
      "[]\n",
      "[]\n",
      "[]\n",
      "['https://www.sitwell.cc/contact']\n"
     ]
    }
   ],
   "source": [
    "options = Options()\n",
    "options.headless = False\n",
    "driver = webdriver.Chrome(options = options)\n",
    "\n",
    "#Collecting results in list. \n",
    "forms = []\n",
    "\n",
    "\n",
    "for i in links:\n",
    "    \n",
    "    try:\n",
    "    \n",
    "        if i != 'None':\n",
    "            \n",
    "            \n",
    "            driver.get(i)\n",
    "\n",
    "            #Get all website page links.\n",
    "            strings = []\n",
    "\n",
    "            elems = driver.find_elements_by_xpath(\"//a[@href]\")\n",
    "            for elem in elems:\n",
    "                strings.append(elem.get_attribute(\"href\"))\n",
    "\n",
    "\n",
    "            #Get only links with 'Contact' in the name.\n",
    "            form = []\n",
    "\n",
    "            for i in strings:\n",
    "                if 'Contact' in i or 'contact' in i:\n",
    "                    form.append(i)\n",
    "                    \n",
    "            #Remove duplicates from list.\n",
    "            form = list(set(form))\n",
    "\n",
    "\n",
    "            forms.append(form)\n",
    "            print(form)\n",
    "\n",
    "        else: \n",
    "\n",
    "            forms.append('None')\n",
    "            \n",
    "            \n",
    "    except:\n",
    "        \n",
    "        forms.append('None')\n",
    "        \n",
    "        continue\n",
    "        \n",
    "    #Saving to CSV each loop. \n",
    "    df = pd.DataFrame({'Contact':forms})\n",
    "    df.to_csv('forms6.csv')"
   ]
  },
  {
   "cell_type": "markdown",
   "metadata": {},
   "source": [
    "# Tidying up results"
   ]
  },
  {
   "cell_type": "markdown",
   "metadata": {},
   "source": [
    "### Remove additional items and just keep first record"
   ]
  },
  {
   "cell_type": "code",
   "execution_count": 34,
   "metadata": {},
   "outputs": [],
   "source": [
    "df = pd.read_csv(\"\"\"Websites collected\"\"\")\n",
    "contacts = df['Contact']\n",
    "contacts = list(contacts)"
   ]
  },
  {
   "cell_type": "code",
   "execution_count": 35,
   "metadata": {},
   "outputs": [],
   "source": [
    "#Split up results where there are multiple instances.\n",
    "cons = []\n",
    "\n",
    "for con in contacts:\n",
    "    con = con.split(',')[0]\n",
    "    cons.append(con)\n",
    "    "
   ]
  },
  {
   "cell_type": "markdown",
   "metadata": {},
   "source": [
    "### Replace values"
   ]
  },
  {
   "cell_type": "code",
   "execution_count": 38,
   "metadata": {},
   "outputs": [],
   "source": [
    "df = pd.DataFrame({'Contact':cons})"
   ]
  },
  {
   "cell_type": "code",
   "execution_count": 39,
   "metadata": {},
   "outputs": [],
   "source": [
    "df.loc[df['Contact'].str.contains('@'), 'Contact'] = 'None'\n",
    "df.loc[df['Contact'].str.contains('remove reccuring value'),'Contact'] = 'None'"
   ]
  },
  {
   "cell_type": "code",
   "execution_count": 41,
   "metadata": {},
   "outputs": [],
   "source": [
    "#Final save\n",
    "df.to_csv('final_contacts.csv')"
   ]
  }
 ],
 "metadata": {
  "kernelspec": {
   "display_name": "Python 3",
   "language": "python",
   "name": "python3"
  },
  "language_info": {
   "codemirror_mode": {
    "name": "ipython",
    "version": 3
   },
   "file_extension": ".py",
   "mimetype": "text/x-python",
   "name": "python",
   "nbconvert_exporter": "python",
   "pygments_lexer": "ipython3",
   "version": "3.8.8"
  }
 },
 "nbformat": 4,
 "nbformat_minor": 4
}
